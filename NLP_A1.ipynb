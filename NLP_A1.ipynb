{
  "nbformat": 4,
  "nbformat_minor": 0,
  "metadata": {
    "colab": {
      "provenance": [],
      "authorship_tag": "ABX9TyPXthjUgto10rBg1/FOzdMr",
      "include_colab_link": true
    },
    "kernelspec": {
      "name": "python3",
      "display_name": "Python 3"
    },
    "language_info": {
      "name": "python"
    }
  },
  "cells": [
    {
      "cell_type": "markdown",
      "metadata": {
        "id": "view-in-github",
        "colab_type": "text"
      },
      "source": [
        "<a href=\"https://colab.research.google.com/github/shivakumarthaduri/NLP_shiva_kumar/blob/main/NLP_A1.ipynb\" target=\"_parent\"><img src=\"https://colab.research.google.com/assets/colab-badge.svg\" alt=\"Open In Colab\"/></a>"
      ]
    },
    {
      "cell_type": "markdown",
      "source": [
        "\n",
        "(i) Loading a Text File"
      ],
      "metadata": {
        "id": "Os3pw45gR32l"
      }
    },
    {
      "cell_type": "code",
      "source": [
        "s=\"negotiators.txt\"\n",
        "with open(s,'r') as file:\n",
        "  text_data=file.read()\n",
        "  print(text_data)"
      ],
      "metadata": {
        "colab": {
          "base_uri": "https://localhost:8080/"
        },
        "id": "x4BuqhHPTwcx",
        "outputId": "d285089e-a222-4780-bee2-3734d8259c47"
      },
      "execution_count": 3,
      "outputs": [
        {
          "output_type": "stream",
          "name": "stdout",
          "text": [
            "sentiment analysis for marketing is used to know the feedback of a customer and how he/she feels about the product which he/she purchased. it is a project which is performed by the natural language processing. its objective is to determine the customers value on a product. for example the customer feelings are valuable for the products and it leads to a good suggestions for the buyers. therefore , it can be considered a problem of sentiment analysing.\n"
          ]
        }
      ]
    },
    {
      "cell_type": "markdown",
      "source": [
        "(ii) Loading Text Data from a CSV File"
      ],
      "metadata": {
        "id": "G29v4QQ8UuY8"
      }
    },
    {
      "cell_type": "code",
      "source": [],
      "metadata": {
        "id": "kaLQ81_uUu-f"
      },
      "execution_count": null,
      "outputs": []
    },
    {
      "cell_type": "code",
      "source": [
        "import csv\n",
        "with open('Flipkart Marketing Sentiment Analysis Dataset.csv', 'r') as file:\n",
        "  reader = csv.reader(file)\n",
        "  for row in reader:\n",
        "    print(row)"
      ],
      "metadata": {
        "colab": {
          "base_uri": "https://localhost:8080/"
        },
        "id": "kv8bncbMN8Tn",
        "outputId": "1fea4925-e465-40ac-b05f-5403e13d4ecc"
      },
      "execution_count": 5,
      "outputs": [
        {
          "output_type": "stream",
          "name": "stdout",
          "text": [
            "['\\ufeffEntry_ID', 'Source_Type', 'User_ID', 'Text', 'Timestamp', 'Sentiment', 'Platform/Channel', 'Product_ID', 'Product_Category', 'Rating', 'Engagement_Metrics', 'Review_Length', 'Verified_Purchase', 'Resolution_Status', 'Interaction_Length', 'Customer_Satisfaction_Score']\n",
            "['1', 'Product Review', 'U001', '\"Great product! Fast delivery and well-packaged.\"', '01-08-2023 14:32', 'Positive', 'Flipkart Website', 'P001', 'Electronics', '5', '120', '10', 'Yes', 'N/A', 'N/A', '5']\n",
            "['2', 'Social Media', 'U002', '\"Terrible customer service experience. My issue still isn\\'t resolved.\"', '02-08-2023 10:15', 'Negative', 'Twitter', 'P002', 'Fashion', 'N/A', '15', 'N/A', 'N/A', 'Unresolved', 'N/A', '1']\n",
            "['3', 'Customer Support', 'U003', '\"Agent was helpful, but the process took too long.\"', '03-08-2023 16:45', 'Neutral', 'Phone Call', 'P003', 'Home Appliances', 'N/A', 'N/A', 'N/A', 'N/A', 'Resolved', '20 minutes', '3']\n",
            "['4', 'Product Review', 'U004', '\"Received a defective item. Very disappointed.\"', '04-08-2023 09:22', 'Negative', 'Flipkart App', 'P004', 'Electronics', '1', '45', '8', 'Yes', 'N/A', 'N/A', '2']\n",
            "['5', 'Social Media', 'U005', '\"Love the new collection! Stylish and affordable.\"', '05-08-2023 12:11', 'Positive', 'Instagram', 'P005', 'Fashion', 'N/A', '80', 'N/A', 'N/A', 'N/A', 'N/A', 'N/A']\n",
            "['6', 'Product Review', 'U006', '\"The delivery was late, but the product is good.\"', '06-08-2023 18:30', 'Neutral', 'Flipkart Website', 'P006', 'Groceries', '4', '33', '12', 'Yes', 'N/A', 'N/A', '4']\n",
            "['7', 'Customer Support', 'U007', '\"Had to call multiple times before my issue was resolved.\"', '07-08-2023 11:00', 'Negative', 'Email', 'P007', 'Books', 'N/A', 'N/A', 'N/A', 'N/A', 'Resolved', '5 days', '2']\n",
            "['8', 'Social Media', 'U008', '\"Why is the delivery charge so high for small items?\"', '08-08-2023 14:50', 'Negative', 'Facebook', 'P008', 'Groceries', 'N/A', '12', 'N/A', 'N/A', 'N/A', 'N/A', 'N/A']\n",
            "['9', 'Product Review', 'U009', '\"Amazing quality! Exceeded my expectations.\"', '09-08-2023 09:45', 'Positive', 'Flipkart Website', 'P009', 'Fashion', '5', '90', '15', 'No', 'N/A', 'N/A', '5']\n",
            "['10', 'Customer Support', 'U010', '\"My refund was processed quickly. Very satisfied.\"', '10-08-2023 17:32', 'Positive', 'Chat', 'P010', 'Electronics', 'N/A', 'N/A', 'N/A', 'N/A', 'Resolved', '10 minutes', '5']\n",
            "['11', 'Product Review', 'U011', '\"Product doesn\\'t match the description.\"', '11-08-2023 13:25', 'Negative', 'Flipkart Website', 'P011', 'Furniture', '2', '40', '9', 'Yes', 'N/A', 'N/A', '2']\n",
            "['12', 'Social Media', 'U012', '\"Received my order quickly, thank you!\"', '12-08-2023 08:10', 'Positive', 'Twitter', 'P012', 'Beauty', 'N/A', '50', 'N/A', 'N/A', 'N/A', 'N/A', 'N/A']\n",
            "['13', 'Customer Support', 'U013', '\"The chat support was not helpful. My issue remains.\"', '13-08-2023 20:20', 'Negative', 'Chat', 'P013', 'Home Appliances', 'N/A', 'N/A', 'N/A', 'N/A', 'Unresolved', '15 minutes', '1']\n",
            "['14', 'Product Review', 'U014', '\"The packaging was damaged, but the product is fine.\"', '14-08-2023 11:11', 'Neutral', 'Flipkart App', 'P014', 'Electronics', '3', '35', '11', 'Yes', 'N/A', 'N/A', '3']\n",
            "['15', 'Social Media', 'U015', '\"Can\\'t believe how affordable the prices are. Great deals!\"', '15-08-2023 16:40', 'Positive', 'Instagram', 'P015', 'Fashion', 'N/A', '100', 'N/A', 'N/A', 'N/A', 'N/A', 'N/A']\n",
            "['16', 'Product Review', 'U016', '\"Not satisfied with the quality of the product.\"', '16-08-2023 19:35', 'Negative', 'Flipkart Website', 'P016', 'Electronics', '2', '25', '7', 'Yes', 'N/A', 'N/A', '2']\n",
            "['17', 'Customer Support', 'U017', '\"Great support, my issue was resolved quickly.\"', '17-08-2023 15:55', 'Positive', 'Phone Call', 'P017', 'Fashion', 'N/A', 'N/A', 'N/A', 'N/A', 'Resolved', '8 minutes', '5']\n",
            "['18', 'Social Media', 'U018', '\"Had a bad experience with the delivery service.\"', '18-08-2023 13:10', 'Negative', 'Facebook', 'P018', 'Groceries', 'N/A', '18', 'N/A', 'N/A', 'N/A', 'N/A', 'N/A']\n",
            "['19', 'Product Review', 'U019', '\"Product is good, but the delivery was delayed.\"', '19-08-2023 12:05', 'Neutral', 'Flipkart Website', 'P019', 'Electronics', '4', '50', '13', 'No', 'N/A', 'N/A', '4']\n",
            "['20', 'Customer Support', 'U020', '\"The agent was rude and didn\\'t help at all.\"', '20-08-2023 14:45', 'Negative', 'Chat', 'P020', 'Home Appliances', 'N/A', 'N/A', 'N/A', 'N/A', 'Unresolved', '12 minutes', '1']\n",
            "['21', 'Product Review', 'U021', '\"Excellent product, exactly as described.\"', '21-08-2023 11:00', 'Positive', 'Flipkart Website', 'P021', 'Fashion', '5', '75', '14', 'Yes', 'N/A', 'N/A', '5']\n",
            "['22', 'Social Media', 'U022', '\"Why is customer service so hard to reach?\"', '22-08-2023 09:30', 'Negative', 'Twitter', 'P022', 'Electronics', 'N/A', '20', 'N/A', 'N/A', 'N/A', 'N/A', 'N/A']\n",
            "['23', 'Customer Support', 'U023', '\"The issue was resolved, but it took too long.\"', '23-08-2023 10:50', 'Neutral', 'Phone Call', 'P023', 'Groceries', 'N/A', 'N/A', 'N/A', 'N/A', 'Resolved', '25 minutes', '3']\n",
            "['24', 'Product Review', 'U024', '\"Poor quality, not worth the price.\"', '24-08-2023 16:20', 'Negative', 'Flipkart Website', 'P024', 'Beauty', '1', '10', '6', 'Yes', 'N/A', 'N/A', '1']\n",
            "['25', 'Social Media', 'U025', '\"Loving the new features on the app!\"', '25-08-2023 08:05', 'Positive', 'Instagram', 'P025', 'Electronics', 'N/A', '85', 'N/A', 'N/A', 'N/A', 'N/A', 'N/A']\n",
            "['26', 'Customer Support', 'U026', '\"The process was smooth, got my refund quickly.\"', '26-08-2023 19:30', 'Positive', 'Email', 'P026', 'Fashion', 'N/A', 'N/A', 'N/A', 'N/A', 'Resolved', '2 days', '5']\n",
            "['27', 'Product Review', 'U027', '\"Not as described, disappointed with the purchase.\"', '27-08-2023 18:45', 'Negative', 'Flipkart Website', 'P027', 'Home Appliances', '2', '28', '10', 'Yes', 'N/A', 'N/A', '2']\n",
            "['28', 'Social Media', 'U028', '\"Received my package on time, thanks Flipkart!\"', '28-08-2023 07:15', 'Positive', 'Facebook', 'P028', 'Groceries', 'N/A', '65', 'N/A', 'N/A', 'N/A', 'N/A', 'N/A']\n",
            "['29', 'Customer Support', 'U029', '\"Customer support was helpful, but it took multiple calls.\"', '29-08-2023 12:10', 'Neutral', 'Phone Call', 'P029', 'Electronics', 'N/A', 'N/A', 'N/A', 'N/A', 'Resolved', '3 calls', '4']\n",
            "['30', 'Product Review', 'U030', '\"Amazing service and product quality. Will order again!\"', '30-08-2023 14:55', 'Positive', 'Flipkart Website', 'P030', 'Fashion', '5', '95', '20', 'No', 'N/A', 'N/A', '5']\n",
            "['31', 'Social Media', 'U031', '\"How do I return a product? Can\\'t find the option on the app.\"', '31-08-2023 10:40', 'Negative', 'Twitter', 'P031', 'Beauty', 'N/A', '22', 'N/A', 'N/A', 'N/A', 'N/A', 'N/A']\n",
            "['32', 'Customer Support', 'U032', '\"The agent resolved my issue quickly, very satisfied.\"', '01-09-2023 17:15', 'Positive', 'Chat', 'P032', 'Home Appliances', 'N/A', 'N/A', 'N/A', 'N/A', 'Resolved', '5 minutes', '5']\n",
            "['33', 'Product Review', 'U033', '\"Received a different product than what I ordered.\"', '02-09-2023 08:25', 'Negative', 'Flipkart Website', 'P033', 'Electronics', '1', '35', '7', 'Yes', 'N/A', 'N/A', '2']\n",
            "['34', 'Social Media', 'U034', '\"Really happy with the discounts. Got a great deal!\"', '03-09-2023 16:05', 'Positive', 'Instagram', 'P034', 'Fashion', 'N/A', '75', 'N/A', 'N/A', 'N/A', 'N/A', 'N/A']\n",
            "['35', 'Customer Support', 'U035', '\"My issue was resolved, but it took several follow-ups.\"', '04-09-2023 15:35', 'Neutral', 'Email', 'P035', 'Groceries', 'N/A', 'N/A', 'N/A', 'N/A', 'Resolved', '3 days', '3']\n",
            "['36', 'Product Review', 'U036', '\"Good product, but packaging was not secure.\"', '05-09-2023 14:50', 'Neutral', 'Flipkart App', 'P036', 'Electronics', '4', '42', '11', 'Yes', 'N/A', 'N/A', '4']\n",
            "['37', 'Social Media', 'U037', '\"Why are there so many issues with the Flipkart app lately?\"', '06-09-2023 12:10', 'Negative', 'Twitter', 'P037', 'Fashion', 'N/A', '14', 'N/A', 'N/A', 'N/A', 'N/A', 'N/A']\n",
            "['38', 'Customer Support', 'U038', '\"The support team was very responsive, issue resolved on first call.\"', '07-09-2023 18:00', 'Positive', 'Phone Call', 'P038', 'Home Appliances', 'N/A', 'N/A', 'N/A', 'N/A', 'Resolved', '12 minutes', '5']\n",
            "['39', 'Product Review', 'U039', '\"The product quality is not what I expected, feels cheap.\"', '08-09-2023 13:20', 'Negative', 'Flipkart Website', 'P039', 'Beauty', '2', '25', '9', 'No', 'N/A', 'N/A', '2']\n",
            "['40', 'Social Media', 'U040', '\"Fast delivery and great customer service. Thanks Flipkart!\"', '09-09-2023 07:45', 'Positive', 'Facebook', 'P040', 'Electronics', 'N/A', '80', 'N/A', 'N/A', 'N/A', 'N/A', 'N/A']\n",
            "['41', 'Customer Support', 'U041', '\"My issue was resolved, but I had to wait a long time.\"', '10-09-2023 10:35', 'Neutral', 'Chat', 'P041', 'Fashion', 'N/A', 'N/A', 'N/A', 'N/A', 'Resolved', '20 minutes', '3']\n",
            "['42', 'Product Review', 'U042', '\"Great product, but wish it was available in more colors.\"', '11-09-2023 16:50', 'Positive', 'Flipkart Website', 'P042', 'Home Appliances', '4', '70', '14', 'Yes', 'N/A', 'N/A', '4']\n",
            "['43', 'Social Media', 'U043', '\"Having issues with my order, can\\'t get in touch with customer service.\"', '12-09-2023 11:15', 'Negative', 'Twitter', 'P043', 'Beauty', 'N/A', '18', 'N/A', 'N/A', 'N/A', 'N/A', 'N/A']\n",
            "['44', 'Customer Support', 'U044', '\"The support was great, but my issue took too long to resolve.\"', '13-09-2023 17:05', 'Neutral', 'Phone Call', 'P044', 'Electronics', 'N/A', 'N/A', 'N/A', 'N/A', 'Resolved', '30 minutes', '3']\n",
            "['45', 'Product Review', 'U045', '\"Product arrived on time and works perfectly. Very happy with my purchase.\"', '14-09-2023 14:30', 'Positive', 'Flipkart Website', 'P045', 'Fashion', '5', '90', '13', 'Yes', 'N/A', 'N/A', '5']\n",
            "['46', 'Social Media', 'U046', '\"Received my order on time, but the product was damaged.\"', '15-09-2023 09:50', 'Negative', 'Facebook', 'P046', 'Home Appliances', 'N/A', '22', 'N/A', 'N/A', 'N/A', 'N/A', 'N/A']\n",
            "['47', 'Customer Support', 'U047', '\"The agent was very helpful, issue resolved on first attempt.\"', '16-09-2023 15:15', 'Positive', 'Chat', 'P047', 'Groceries', 'N/A', 'N/A', 'N/A', 'N/A', 'Resolved', '7 minutes', '5']\n",
            "['48', 'Product Review', 'U048', '\"The product didn\\'t meet my expectations, feels cheaply made.\"', '17-09-2023 19:45', 'Negative', 'Flipkart Website', 'P048', 'Electronics', '2', '30', '8', 'Yes', 'N/A', 'N/A', '2']\n",
            "['49', 'Social Media', 'U049', '\"Received my order quickly, but the product is not working as expected.\"', '18-09-2023 13:55', 'Negative', 'Twitter', 'P049', 'Fashion', 'N/A', '35', 'N/A', 'N/A', 'N/A', 'N/A', 'N/A']\n",
            "['50', 'Customer Support', 'U050', '\"The support was quick to respond and resolved my issue.\"', '19-09-2023 12:35', 'Positive', 'Phone Call', 'P050', 'Beauty', 'N/A', 'N/A', 'N/A', 'N/A', 'Resolved', '10 minutes', '5']\n",
            "['51', 'Product Review', 'U051', '\"Very satisfied with the product, it\\'s exactly as described.\"', '20-09-2023 17:05', 'Positive', 'Flipkart Website', 'P051', 'Home Appliances', '5', '75', '16', 'Yes', 'N/A', 'N/A', '5']\n",
            "['52', 'Social Media', 'U052', '\"Why does it take so long to process a return?\"', '21-09-2023 08:15', 'Negative', 'Facebook', 'P052', 'Groceries', 'N/A', '19', 'N/A', 'N/A', 'N/A', 'N/A', 'N/A']\n",
            "['53', 'Customer Support', 'U053', '\"The agent was polite and resolved my issue, but it took several days.\"', '22-09-2023 14:20', 'Neutral', 'Email', 'P053', 'Electronics', 'N/A', 'N/A', 'N/A', 'N/A', 'Resolved', '4 days', '3']\n",
            "['54', 'Product Review', 'U054', '\"The product quality is excellent, but delivery was delayed.\"', '23-09-2023 13:00', 'Neutral', 'Flipkart Website', 'P054', 'Fashion', '4', '40', '12', 'Yes', 'N/A', 'N/A', '4']\n",
            "['55', 'Social Media', 'U055', '\"Loving the new features on the Flipkart app!\"', '24-09-2023 15:45', 'Positive', 'Instagram', 'P055', 'Electronics', 'N/A', '85', 'N/A', 'N/A', 'N/A', 'N/A', 'N/A']\n",
            "['56', 'Customer Support', 'U056', '\"The support was helpful, but my issue is still unresolved.\"', '25-09-2023 19:30', 'Negative', 'Phone Call', 'P056', 'Home Appliances', 'N/A', 'N/A', 'N/A', 'N/A', 'Unresolved', '20 minutes', '2']\n",
            "['57', 'Product Review', 'U057', '\"The product was exactly as described, very satisfied.\"', '26-09-2023 11:10', 'Positive', 'Flipkart Website', 'P057', 'Beauty', '5', '95', '15', 'Yes', 'N/A', 'N/A', '5']\n",
            "['58', 'Social Media', 'U058', '\"Having issues with the app, it\\'s not loading properly.\"', '27-09-2023 18:20', 'Negative', 'Twitter', 'P058', 'Fashion', 'N/A', '30', 'N/A', 'N/A', 'N/A', 'N/A', 'N/A']\n",
            "['59', 'Customer Support', 'U059', '\"The agent was very understanding and resolved my issue.\"', '28-09-2023 08:05', 'Positive', 'Chat', 'P059', 'Groceries', 'N/A', 'N/A', 'N/A', 'N/A', 'Resolved', '12 minutes', '5']\n",
            "['60', 'Product Review', 'U060', '\"Product arrived on time and works perfectly. Very happy with my purchase.\"', '29-09-2023 16:50', 'Positive', 'Flipkart Website', 'P060', 'Home Appliances', '5', '100', '18', 'Yes', 'N/A', 'N/A', '5']\n",
            "['61', 'Social Media', 'U061', '\"Why is customer support so hard to reach? I\\'ve been trying for days!\"', '30-09-2023 10:30', 'Negative', 'Facebook', 'P061', 'Beauty', 'N/A', '28', 'N/A', 'N/A', 'N/A', 'N/A', 'N/A']\n",
            "['62', 'Customer Support', 'U062', '\"The issue was resolved, but it took several calls and emails.\"', '01-10-2023 15:25', 'Neutral', 'Email', 'P062', 'Electronics', 'N/A', 'N/A', 'N/A', 'N/A', 'Resolved', '5 days', '3']\n",
            "['63', 'Product Review', 'U063', '\"Product is good, but the packaging was damaged.\"', '02-10-2023 11:15', 'Neutral', 'Flipkart Website', 'P063', 'Fashion', '3', '33', '10', 'Yes', 'N/A', 'N/A', '4']\n",
            "['64', 'Social Media', 'U064', '\"Received my order on time, but the product is not working as expected.\"', '03-10-2023 09:50', 'Negative', 'Twitter', 'P064', 'Home Appliances', 'N/A', '22', 'N/A', 'N/A', 'N/A', 'N/A', 'N/A']\n",
            "['65', 'Customer Support', 'U065', '\"The support was very helpful and resolved my issue quickly.\"', '04-10-2023 17:00', 'Positive', 'Phone Call', 'P065', 'Groceries', 'N/A', 'N/A', 'N/A', 'N/A', 'Resolved', '8 minutes', '5']\n",
            "['66', 'Product Review', 'U066', '\"Very happy with my purchase, will definitely order again!\"', '05-10-2023 16:45', 'Positive', 'Flipkart Website', 'P066', 'Electronics', '5', '85', '20', 'Yes', 'N/A', 'N/A', '5']\n",
            "['67', 'Social Media', 'U067', '\"Why is there no option to contact customer support directly through the app?\"', '06-10-2023 14:15', 'Negative', 'Instagram', 'P067', 'Fashion', 'N/A', '18', 'N/A', 'N/A', 'N/A', 'N/A', 'N/A']\n",
            "['68', 'Customer Support', 'U068', '\"The issue was resolved quickly, but I had to wait a long time to speak to an agent.\"', '07-10-2023 12:05', 'Neutral', 'Chat', 'P068', 'Beauty', 'N/A', 'N/A', 'N/A', 'N/A', 'Resolved', '15 minutes', '4']\n",
            "['69', 'Product Review', 'U069', '\"The product quality is great, but the delivery was delayed.\"', '08-10-2023 08:50', 'Neutral', 'Flipkart Website', 'P069', 'Home Appliances', '4', '45', '12', 'Yes', 'N/A', 'N/A', '4']\n",
            "['70', 'Social Media', 'U070', '\"Love the variety of products available on Flipkart!\"', '09-10-2023 13:20', 'Positive', 'Facebook', 'P070', 'Groceries', 'N/A', '90', 'N/A', 'N/A', 'N/A', 'N/A', 'N/A']\n",
            "['71', 'Customer Support', 'U071', '\"The support team was very helpful and resolved my issue on the first attempt.\"', '10-10-2023 18:00', 'Positive', 'Phone Call', 'P071', 'Electronics', 'N/A', 'N/A', 'N/A', 'N/A', 'Resolved', '10 minutes', '5']\n",
            "['72', 'Product Review', 'U072', '\"The product arrived on time and works perfectly. Very happy with my purchase.\"', '11-10-2023 16:30', 'Positive', 'Flipkart Website', 'P072', 'Fashion', '5', '88', '15', 'Yes', 'N/A', 'N/A', '5']\n",
            "['73', 'Social Media', 'U073', '\"Why does it take so long to process a return?\"', '12-10-2023 12:45', 'Negative', 'Twitter', 'P073', 'Beauty', 'N/A', '20', 'N/A', 'N/A', 'N/A', 'N/A', 'N/A']\n",
            "['74', 'Customer Support', 'U074', '\"The agent was polite and resolved my issue quickly.\"', '13-10-2023 14:20', 'Positive', 'Chat', 'P074', 'Home Appliances', 'N/A', 'N/A', 'N/A', 'N/A', 'Resolved', '8 minutes', '5']\n",
            "['75', 'Product Review', 'U075', '\"The product quality is not what I expected, feels cheap.\"', '14-10-2023 18:55', 'Negative', 'Flipkart Website', 'P075', 'Electronics', '2', '30', '9', 'No', 'N/A', 'N/A', '2']\n",
            "['76', 'Social Media', 'U076', '\"Received my package on time, thanks Flipkart!\"', '15-10-2023 09:10', 'Positive', 'Instagram', 'P076', 'Fashion', 'N/A', '85', 'N/A', 'N/A', 'N/A', 'N/A', 'N/A']\n",
            "['77', 'Customer Support', 'U077', '\"The support team was very helpful and resolved my issue on the first attempt.\"', '16-10-2023 16:05', 'Positive', 'Email', 'P077', 'Beauty', 'N/A', 'N/A', 'N/A', 'N/A', 'Resolved', '12 minutes', '5']\n",
            "['78', 'Product Review', 'U078', '\"Received a different product than what I ordered.\"', '17-10-2023 15:20', 'Negative', 'Flipkart Website', 'P078', 'Groceries', '2', '25', '8', 'Yes', 'N/A', 'N/A', '2']\n",
            "['79', 'Social Media', 'U079', '\"Really happy with the discounts. Got a great deal!\"', '18-10-2023 13:35', 'Positive', 'Facebook', 'P079', 'Electronics', 'N/A', '75', 'N/A', 'N/A', 'N/A', 'N/A', 'N/A']\n",
            "['80', 'Customer Support', 'U080', '\"The support was great, but it took several follow-ups to get the issue resolved.\"', '19-10-2023 12:15', 'Neutral', 'Phone Call', 'P080', 'Fashion', 'N/A', 'N/A', 'N/A', 'N/A', 'Resolved', '4 days', '3']\n",
            "['81', 'Product Review', 'U081', '\"The product quality is not what I expected, feels cheap.\"', '20-10-2023 10:50', 'Negative', 'Flipkart Website', 'P081', 'Beauty', '1', '22', '7', 'No', 'N/A', 'N/A', '2']\n",
            "['82', 'Social Media', 'U082', '\"Fast delivery and great customer service. Thanks Flipkart!\"', '21-10-2023 16:00', 'Positive', 'Twitter', 'P082', 'Home Appliances', 'N/A', '80', 'N/A', 'N/A', 'N/A', 'N/A', 'N/A']\n",
            "['83', 'Customer Support', 'U083', '\"The agent was helpful, but it took multiple attempts to resolve my issue.\"', '22-10-2023 13:25', 'Neutral', 'Chat', 'P083', 'Groceries', 'N/A', 'N/A', 'N/A', 'N/A', 'Resolved', '2 days', '3']\n",
            "['84', 'Product Review', 'U084', '\"Amazing service and product quality. Will order again!\"', '23-10-2023 19:40', 'Positive', 'Flipkart Website', 'P084', 'Electronics', '5', '98', '20', 'No', 'N/A', 'N/A', '5']\n",
            "['85', 'Social Media', 'U085', '\"Received my order quickly, but the product is not working as expected.\"', '24-10-2023 08:45', 'Negative', 'Twitter', 'P085', 'Fashion', 'N/A', '35', 'N/A', 'N/A', 'N/A', 'N/A', 'N/A']\n",
            "['86', 'Customer Support', 'U086', '\"The support team was very responsive and resolved my issue on the first attempt.\"', '25-10-2023 11:55', 'Positive', 'Phone Call', 'P086', 'Beauty', 'N/A', 'N/A', 'N/A', 'N/A', 'Resolved', '15 minutes', '5']\n",
            "['87', 'Product Review', 'U087', '\"The product was exactly as described, very satisfied.\"', '26-10-2023 13:50', 'Positive', 'Flipkart Website', 'P087', 'Home Appliances', '5', '85', '14', 'Yes', 'N/A', 'N/A', '5']\n",
            "['88', 'Social Media', 'U088', '\"Why is customer support so hard to reach? I\\'ve been trying for days!\"', '27-10-2023 10:20', 'Negative', 'Facebook', 'P088', 'Groceries', 'N/A', '28', 'N/A', 'N/A', 'N/A', 'N/A', 'N/A']\n",
            "['89', 'Customer Support', 'U089', '\"The agent was polite and resolved my issue quickly.\"', '28-10-2023 16:30', 'Positive', 'Chat', 'P089', 'Electronics', 'N/A', 'N/A', 'N/A', 'N/A', 'Resolved', '8 minutes', '5']\n",
            "['90', 'Product Review', 'U090', '\"The product quality is excellent, but delivery was delayed.\"', '29-10-2023 14:55', 'Neutral', 'Flipkart Website', 'P090', 'Fashion', '4', '40', '12', 'Yes', 'N/A', 'N/A', '4']\n",
            "['91', 'Social Media', 'U091', '\"Having issues with my order, can\\'t get in touch with customer service.\"', '30-10-2023 09:35', 'Negative', 'Twitter', 'P091', 'Home Appliances', 'N/A', '18', 'N/A', 'N/A', 'N/A', 'N/A', 'N/A']\n",
            "['92', 'Customer Support', 'U092', '\"The support team was very helpful and resolved my issue on the first attempt.\"', '31-10-2023 12:40', 'Positive', 'Phone Call', 'P092', 'Beauty', 'N/A', 'N/A', 'N/A', 'N/A', 'Resolved', '10 minutes', '5']\n",
            "['93', 'Product Review', 'U093', '\"Product is good, but the packaging was damaged.\"', '01-11-2023 17:15', 'Neutral', 'Flipkart Website', 'P093', 'Groceries', '3', '33', '10', 'Yes', 'N/A', 'N/A', '4']\n",
            "['94', 'Social Media', 'U094', '\"Why does it take so long to process a return?\"', '02-11-2023 11:25', 'Negative', 'Twitter', 'P094', 'Electronics', 'N/A', '20', 'N/A', 'N/A', 'N/A', 'N/A', 'N/A']\n",
            "['95', 'Customer Support', 'U095', '\"The support was helpful, but my issue is still unresolved.\"', '03-11-2023 13:00', 'Negative', 'Email', 'P095', 'Fashion', 'N/A', 'N/A', 'N/A', 'N/A', 'Unresolved', '5 days', '2']\n",
            "['96', 'Product Review', 'U096', '\"Very satisfied with the product, it\\'s exactly as described.\"', '04-11-2023 14:40', 'Positive', 'Flipkart Website', 'P096', 'Beauty', '5', '75', '16', 'Yes', 'N/A', 'N/A', '5']\n",
            "['97', 'Social Media', 'U097', '\"Received my package on time, but the product quality is disappointing.\"', '05-11-2023 08:10', 'Negative', 'Facebook', 'P097', 'Home Appliances', 'N/A', '25', 'N/A', 'N/A', 'N/A', 'N/A', 'N/A']\n",
            "['98', 'Customer Support', 'U098', '\"The issue was resolved, but it took several calls and emails.\"', '06-11-2023 12:30', 'Neutral', 'Phone Call', 'P098', 'Groceries', 'N/A', 'N/A', 'N/A', 'N/A', 'Resolved', '4 days', '3']\n",
            "['99', 'Product Review', 'U099', '\"Product arrived on time and works perfectly. Very happy with my purchase.\"', '07-11-2023 18:35', 'Positive', 'Flipkart Website', 'P099', 'Electronics', '5', '100', '18', 'Yes', 'N/A', 'N/A', '5']\n",
            "['100', 'Social Media', 'U100', '\"Why is there no option to contact customer support directly through the app?\"', '08-11-2023 15:55', 'Negative', 'Instagram', 'P100', 'Fashion', 'N/A', '18', 'N/A', 'N/A', 'N/A', 'N/A', 'N/A']\n"
          ]
        }
      ]
    },
    {
      "cell_type": "markdown",
      "source": [
        "(iii) Loading Text Data from an Online Source"
      ],
      "metadata": {
        "id": "kkVb9JYKVYBk"
      }
    },
    {
      "cell_type": "code",
      "source": [
        "!pip install kaggle\n",
        "!mkdir ~/.kaggle\n",
        "!cp kaggle.json ~/.kaggle/\n",
        "!chmod 600 ~/.kaggle/kaggle.json\n",
        "!kaggle datasets download -d uciml/iris\n",
        "!unzip iris.zip\n",
        "import pandas as pd\n",
        "df = pd.read_csv('Iris.csv')\n",
        "df.head()"
      ],
      "metadata": {
        "colab": {
          "base_uri": "https://localhost:8080/",
          "height": 625
        },
        "id": "FQR0eCQMVa0o",
        "outputId": "e9d727ff-e493-42fd-d852-536379d59371"
      },
      "execution_count": 6,
      "outputs": [
        {
          "output_type": "stream",
          "name": "stdout",
          "text": [
            "Requirement already satisfied: kaggle in /usr/local/lib/python3.10/dist-packages (1.6.17)\n",
            "Requirement already satisfied: six>=1.10 in /usr/local/lib/python3.10/dist-packages (from kaggle) (1.16.0)\n",
            "Requirement already satisfied: certifi>=2023.7.22 in /usr/local/lib/python3.10/dist-packages (from kaggle) (2024.7.4)\n",
            "Requirement already satisfied: python-dateutil in /usr/local/lib/python3.10/dist-packages (from kaggle) (2.8.2)\n",
            "Requirement already satisfied: requests in /usr/local/lib/python3.10/dist-packages (from kaggle) (2.32.3)\n",
            "Requirement already satisfied: tqdm in /usr/local/lib/python3.10/dist-packages (from kaggle) (4.66.5)\n",
            "Requirement already satisfied: python-slugify in /usr/local/lib/python3.10/dist-packages (from kaggle) (8.0.4)\n",
            "Requirement already satisfied: urllib3 in /usr/local/lib/python3.10/dist-packages (from kaggle) (2.0.7)\n",
            "Requirement already satisfied: bleach in /usr/local/lib/python3.10/dist-packages (from kaggle) (6.1.0)\n",
            "Requirement already satisfied: webencodings in /usr/local/lib/python3.10/dist-packages (from bleach->kaggle) (0.5.1)\n",
            "Requirement already satisfied: text-unidecode>=1.3 in /usr/local/lib/python3.10/dist-packages (from python-slugify->kaggle) (1.3)\n",
            "Requirement already satisfied: charset-normalizer<4,>=2 in /usr/local/lib/python3.10/dist-packages (from requests->kaggle) (3.3.2)\n",
            "Requirement already satisfied: idna<4,>=2.5 in /usr/local/lib/python3.10/dist-packages (from requests->kaggle) (3.8)\n",
            "cp: cannot stat 'kaggle.json': No such file or directory\n",
            "chmod: cannot access '/root/.kaggle/kaggle.json': No such file or directory\n",
            "Dataset URL: https://www.kaggle.com/datasets/uciml/iris\n",
            "License(s): CC0-1.0\n",
            "Downloading iris.zip to /content\n",
            "  0% 0.00/3.60k [00:00<?, ?B/s]\n",
            "100% 3.60k/3.60k [00:00<00:00, 7.55MB/s]\n",
            "Archive:  iris.zip\n",
            "  inflating: Iris.csv                \n",
            "  inflating: database.sqlite         \n"
          ]
        },
        {
          "output_type": "execute_result",
          "data": {
            "text/plain": [
              "   Id  SepalLengthCm  SepalWidthCm  PetalLengthCm  PetalWidthCm      Species\n",
              "0   1            5.1           3.5            1.4           0.2  Iris-setosa\n",
              "1   2            4.9           3.0            1.4           0.2  Iris-setosa\n",
              "2   3            4.7           3.2            1.3           0.2  Iris-setosa\n",
              "3   4            4.6           3.1            1.5           0.2  Iris-setosa\n",
              "4   5            5.0           3.6            1.4           0.2  Iris-setosa"
            ],
            "text/html": [
              "\n",
              "  <div id=\"df-c7b3d005-5f95-4a84-bdf3-946396de624f\" class=\"colab-df-container\">\n",
              "    <div>\n",
              "<style scoped>\n",
              "    .dataframe tbody tr th:only-of-type {\n",
              "        vertical-align: middle;\n",
              "    }\n",
              "\n",
              "    .dataframe tbody tr th {\n",
              "        vertical-align: top;\n",
              "    }\n",
              "\n",
              "    .dataframe thead th {\n",
              "        text-align: right;\n",
              "    }\n",
              "</style>\n",
              "<table border=\"1\" class=\"dataframe\">\n",
              "  <thead>\n",
              "    <tr style=\"text-align: right;\">\n",
              "      <th></th>\n",
              "      <th>Id</th>\n",
              "      <th>SepalLengthCm</th>\n",
              "      <th>SepalWidthCm</th>\n",
              "      <th>PetalLengthCm</th>\n",
              "      <th>PetalWidthCm</th>\n",
              "      <th>Species</th>\n",
              "    </tr>\n",
              "  </thead>\n",
              "  <tbody>\n",
              "    <tr>\n",
              "      <th>0</th>\n",
              "      <td>1</td>\n",
              "      <td>5.1</td>\n",
              "      <td>3.5</td>\n",
              "      <td>1.4</td>\n",
              "      <td>0.2</td>\n",
              "      <td>Iris-setosa</td>\n",
              "    </tr>\n",
              "    <tr>\n",
              "      <th>1</th>\n",
              "      <td>2</td>\n",
              "      <td>4.9</td>\n",
              "      <td>3.0</td>\n",
              "      <td>1.4</td>\n",
              "      <td>0.2</td>\n",
              "      <td>Iris-setosa</td>\n",
              "    </tr>\n",
              "    <tr>\n",
              "      <th>2</th>\n",
              "      <td>3</td>\n",
              "      <td>4.7</td>\n",
              "      <td>3.2</td>\n",
              "      <td>1.3</td>\n",
              "      <td>0.2</td>\n",
              "      <td>Iris-setosa</td>\n",
              "    </tr>\n",
              "    <tr>\n",
              "      <th>3</th>\n",
              "      <td>4</td>\n",
              "      <td>4.6</td>\n",
              "      <td>3.1</td>\n",
              "      <td>1.5</td>\n",
              "      <td>0.2</td>\n",
              "      <td>Iris-setosa</td>\n",
              "    </tr>\n",
              "    <tr>\n",
              "      <th>4</th>\n",
              "      <td>5</td>\n",
              "      <td>5.0</td>\n",
              "      <td>3.6</td>\n",
              "      <td>1.4</td>\n",
              "      <td>0.2</td>\n",
              "      <td>Iris-setosa</td>\n",
              "    </tr>\n",
              "  </tbody>\n",
              "</table>\n",
              "</div>\n",
              "    <div class=\"colab-df-buttons\">\n",
              "\n",
              "  <div class=\"colab-df-container\">\n",
              "    <button class=\"colab-df-convert\" onclick=\"convertToInteractive('df-c7b3d005-5f95-4a84-bdf3-946396de624f')\"\n",
              "            title=\"Convert this dataframe to an interactive table.\"\n",
              "            style=\"display:none;\">\n",
              "\n",
              "  <svg xmlns=\"http://www.w3.org/2000/svg\" height=\"24px\" viewBox=\"0 -960 960 960\">\n",
              "    <path d=\"M120-120v-720h720v720H120Zm60-500h600v-160H180v160Zm220 220h160v-160H400v160Zm0 220h160v-160H400v160ZM180-400h160v-160H180v160Zm440 0h160v-160H620v160ZM180-180h160v-160H180v160Zm440 0h160v-160H620v160Z\"/>\n",
              "  </svg>\n",
              "    </button>\n",
              "\n",
              "  <style>\n",
              "    .colab-df-container {\n",
              "      display:flex;\n",
              "      gap: 12px;\n",
              "    }\n",
              "\n",
              "    .colab-df-convert {\n",
              "      background-color: #E8F0FE;\n",
              "      border: none;\n",
              "      border-radius: 50%;\n",
              "      cursor: pointer;\n",
              "      display: none;\n",
              "      fill: #1967D2;\n",
              "      height: 32px;\n",
              "      padding: 0 0 0 0;\n",
              "      width: 32px;\n",
              "    }\n",
              "\n",
              "    .colab-df-convert:hover {\n",
              "      background-color: #E2EBFA;\n",
              "      box-shadow: 0px 1px 2px rgba(60, 64, 67, 0.3), 0px 1px 3px 1px rgba(60, 64, 67, 0.15);\n",
              "      fill: #174EA6;\n",
              "    }\n",
              "\n",
              "    .colab-df-buttons div {\n",
              "      margin-bottom: 4px;\n",
              "    }\n",
              "\n",
              "    [theme=dark] .colab-df-convert {\n",
              "      background-color: #3B4455;\n",
              "      fill: #D2E3FC;\n",
              "    }\n",
              "\n",
              "    [theme=dark] .colab-df-convert:hover {\n",
              "      background-color: #434B5C;\n",
              "      box-shadow: 0px 1px 3px 1px rgba(0, 0, 0, 0.15);\n",
              "      filter: drop-shadow(0px 1px 2px rgba(0, 0, 0, 0.3));\n",
              "      fill: #FFFFFF;\n",
              "    }\n",
              "  </style>\n",
              "\n",
              "    <script>\n",
              "      const buttonEl =\n",
              "        document.querySelector('#df-c7b3d005-5f95-4a84-bdf3-946396de624f button.colab-df-convert');\n",
              "      buttonEl.style.display =\n",
              "        google.colab.kernel.accessAllowed ? 'block' : 'none';\n",
              "\n",
              "      async function convertToInteractive(key) {\n",
              "        const element = document.querySelector('#df-c7b3d005-5f95-4a84-bdf3-946396de624f');\n",
              "        const dataTable =\n",
              "          await google.colab.kernel.invokeFunction('convertToInteractive',\n",
              "                                                    [key], {});\n",
              "        if (!dataTable) return;\n",
              "\n",
              "        const docLinkHtml = 'Like what you see? Visit the ' +\n",
              "          '<a target=\"_blank\" href=https://colab.research.google.com/notebooks/data_table.ipynb>data table notebook</a>'\n",
              "          + ' to learn more about interactive tables.';\n",
              "        element.innerHTML = '';\n",
              "        dataTable['output_type'] = 'display_data';\n",
              "        await google.colab.output.renderOutput(dataTable, element);\n",
              "        const docLink = document.createElement('div');\n",
              "        docLink.innerHTML = docLinkHtml;\n",
              "        element.appendChild(docLink);\n",
              "      }\n",
              "    </script>\n",
              "  </div>\n",
              "\n",
              "\n",
              "<div id=\"df-c30ca75d-b6fd-400e-9b29-b7f36ffb072a\">\n",
              "  <button class=\"colab-df-quickchart\" onclick=\"quickchart('df-c30ca75d-b6fd-400e-9b29-b7f36ffb072a')\"\n",
              "            title=\"Suggest charts\"\n",
              "            style=\"display:none;\">\n",
              "\n",
              "<svg xmlns=\"http://www.w3.org/2000/svg\" height=\"24px\"viewBox=\"0 0 24 24\"\n",
              "     width=\"24px\">\n",
              "    <g>\n",
              "        <path d=\"M19 3H5c-1.1 0-2 .9-2 2v14c0 1.1.9 2 2 2h14c1.1 0 2-.9 2-2V5c0-1.1-.9-2-2-2zM9 17H7v-7h2v7zm4 0h-2V7h2v10zm4 0h-2v-4h2v4z\"/>\n",
              "    </g>\n",
              "</svg>\n",
              "  </button>\n",
              "\n",
              "<style>\n",
              "  .colab-df-quickchart {\n",
              "      --bg-color: #E8F0FE;\n",
              "      --fill-color: #1967D2;\n",
              "      --hover-bg-color: #E2EBFA;\n",
              "      --hover-fill-color: #174EA6;\n",
              "      --disabled-fill-color: #AAA;\n",
              "      --disabled-bg-color: #DDD;\n",
              "  }\n",
              "\n",
              "  [theme=dark] .colab-df-quickchart {\n",
              "      --bg-color: #3B4455;\n",
              "      --fill-color: #D2E3FC;\n",
              "      --hover-bg-color: #434B5C;\n",
              "      --hover-fill-color: #FFFFFF;\n",
              "      --disabled-bg-color: #3B4455;\n",
              "      --disabled-fill-color: #666;\n",
              "  }\n",
              "\n",
              "  .colab-df-quickchart {\n",
              "    background-color: var(--bg-color);\n",
              "    border: none;\n",
              "    border-radius: 50%;\n",
              "    cursor: pointer;\n",
              "    display: none;\n",
              "    fill: var(--fill-color);\n",
              "    height: 32px;\n",
              "    padding: 0;\n",
              "    width: 32px;\n",
              "  }\n",
              "\n",
              "  .colab-df-quickchart:hover {\n",
              "    background-color: var(--hover-bg-color);\n",
              "    box-shadow: 0 1px 2px rgba(60, 64, 67, 0.3), 0 1px 3px 1px rgba(60, 64, 67, 0.15);\n",
              "    fill: var(--button-hover-fill-color);\n",
              "  }\n",
              "\n",
              "  .colab-df-quickchart-complete:disabled,\n",
              "  .colab-df-quickchart-complete:disabled:hover {\n",
              "    background-color: var(--disabled-bg-color);\n",
              "    fill: var(--disabled-fill-color);\n",
              "    box-shadow: none;\n",
              "  }\n",
              "\n",
              "  .colab-df-spinner {\n",
              "    border: 2px solid var(--fill-color);\n",
              "    border-color: transparent;\n",
              "    border-bottom-color: var(--fill-color);\n",
              "    animation:\n",
              "      spin 1s steps(1) infinite;\n",
              "  }\n",
              "\n",
              "  @keyframes spin {\n",
              "    0% {\n",
              "      border-color: transparent;\n",
              "      border-bottom-color: var(--fill-color);\n",
              "      border-left-color: var(--fill-color);\n",
              "    }\n",
              "    20% {\n",
              "      border-color: transparent;\n",
              "      border-left-color: var(--fill-color);\n",
              "      border-top-color: var(--fill-color);\n",
              "    }\n",
              "    30% {\n",
              "      border-color: transparent;\n",
              "      border-left-color: var(--fill-color);\n",
              "      border-top-color: var(--fill-color);\n",
              "      border-right-color: var(--fill-color);\n",
              "    }\n",
              "    40% {\n",
              "      border-color: transparent;\n",
              "      border-right-color: var(--fill-color);\n",
              "      border-top-color: var(--fill-color);\n",
              "    }\n",
              "    60% {\n",
              "      border-color: transparent;\n",
              "      border-right-color: var(--fill-color);\n",
              "    }\n",
              "    80% {\n",
              "      border-color: transparent;\n",
              "      border-right-color: var(--fill-color);\n",
              "      border-bottom-color: var(--fill-color);\n",
              "    }\n",
              "    90% {\n",
              "      border-color: transparent;\n",
              "      border-bottom-color: var(--fill-color);\n",
              "    }\n",
              "  }\n",
              "</style>\n",
              "\n",
              "  <script>\n",
              "    async function quickchart(key) {\n",
              "      const quickchartButtonEl =\n",
              "        document.querySelector('#' + key + ' button');\n",
              "      quickchartButtonEl.disabled = true;  // To prevent multiple clicks.\n",
              "      quickchartButtonEl.classList.add('colab-df-spinner');\n",
              "      try {\n",
              "        const charts = await google.colab.kernel.invokeFunction(\n",
              "            'suggestCharts', [key], {});\n",
              "      } catch (error) {\n",
              "        console.error('Error during call to suggestCharts:', error);\n",
              "      }\n",
              "      quickchartButtonEl.classList.remove('colab-df-spinner');\n",
              "      quickchartButtonEl.classList.add('colab-df-quickchart-complete');\n",
              "    }\n",
              "    (() => {\n",
              "      let quickchartButtonEl =\n",
              "        document.querySelector('#df-c30ca75d-b6fd-400e-9b29-b7f36ffb072a button');\n",
              "      quickchartButtonEl.style.display =\n",
              "        google.colab.kernel.accessAllowed ? 'block' : 'none';\n",
              "    })();\n",
              "  </script>\n",
              "</div>\n",
              "\n",
              "    </div>\n",
              "  </div>\n"
            ],
            "application/vnd.google.colaboratory.intrinsic+json": {
              "type": "dataframe",
              "variable_name": "df",
              "summary": "{\n  \"name\": \"df\",\n  \"rows\": 150,\n  \"fields\": [\n    {\n      \"column\": \"Id\",\n      \"properties\": {\n        \"dtype\": \"number\",\n        \"std\": 43,\n        \"min\": 1,\n        \"max\": 150,\n        \"num_unique_values\": 150,\n        \"samples\": [\n          74,\n          19,\n          119\n        ],\n        \"semantic_type\": \"\",\n        \"description\": \"\"\n      }\n    },\n    {\n      \"column\": \"SepalLengthCm\",\n      \"properties\": {\n        \"dtype\": \"number\",\n        \"std\": 0.828066127977863,\n        \"min\": 4.3,\n        \"max\": 7.9,\n        \"num_unique_values\": 35,\n        \"samples\": [\n          6.2,\n          4.5,\n          5.6\n        ],\n        \"semantic_type\": \"\",\n        \"description\": \"\"\n      }\n    },\n    {\n      \"column\": \"SepalWidthCm\",\n      \"properties\": {\n        \"dtype\": \"number\",\n        \"std\": 0.4335943113621737,\n        \"min\": 2.0,\n        \"max\": 4.4,\n        \"num_unique_values\": 23,\n        \"samples\": [\n          2.3,\n          4.0,\n          3.5\n        ],\n        \"semantic_type\": \"\",\n        \"description\": \"\"\n      }\n    },\n    {\n      \"column\": \"PetalLengthCm\",\n      \"properties\": {\n        \"dtype\": \"number\",\n        \"std\": 1.7644204199522626,\n        \"min\": 1.0,\n        \"max\": 6.9,\n        \"num_unique_values\": 43,\n        \"samples\": [\n          6.7,\n          3.8,\n          3.7\n        ],\n        \"semantic_type\": \"\",\n        \"description\": \"\"\n      }\n    },\n    {\n      \"column\": \"PetalWidthCm\",\n      \"properties\": {\n        \"dtype\": \"number\",\n        \"std\": 0.7631607417008411,\n        \"min\": 0.1,\n        \"max\": 2.5,\n        \"num_unique_values\": 22,\n        \"samples\": [\n          0.2,\n          1.2,\n          1.3\n        ],\n        \"semantic_type\": \"\",\n        \"description\": \"\"\n      }\n    },\n    {\n      \"column\": \"Species\",\n      \"properties\": {\n        \"dtype\": \"category\",\n        \"num_unique_values\": 3,\n        \"samples\": [\n          \"Iris-setosa\",\n          \"Iris-versicolor\",\n          \"Iris-virginica\"\n        ],\n        \"semantic_type\": \"\",\n        \"description\": \"\"\n      }\n    }\n  ]\n}"
            }
          },
          "metadata": {},
          "execution_count": 6
        }
      ]
    },
    {
      "cell_type": "markdown",
      "source": [
        "(iv) Loading Built-in Text Datasets with NLTK"
      ],
      "metadata": {
        "id": "_FOsjqbuVdyw"
      }
    },
    {
      "cell_type": "code",
      "source": [
        "import nltk\n",
        "nltk.download('brown')\n",
        "from nltk.corpus import brown\n",
        "print(brown.words())"
      ],
      "metadata": {
        "colab": {
          "base_uri": "https://localhost:8080/"
        },
        "id": "6xuT1gQyVkQ0",
        "outputId": "58a5d914-b967-4937-f416-c049715bdf5b"
      },
      "execution_count": 7,
      "outputs": [
        {
          "output_type": "stream",
          "name": "stderr",
          "text": [
            "[nltk_data] Downloading package brown to /root/nltk_data...\n",
            "[nltk_data]   Unzipping corpora/brown.zip.\n"
          ]
        },
        {
          "output_type": "stream",
          "name": "stdout",
          "text": [
            "['The', 'Fulton', 'County', 'Grand', 'Jury', 'said', ...]\n"
          ]
        }
      ]
    },
    {
      "cell_type": "markdown",
      "source": [
        "(v) Loading Text Data Using Hugging Face Datasets"
      ],
      "metadata": {
        "id": "uLeU_t1eVsBv"
      }
    },
    {
      "cell_type": "code",
      "source": [
        "import pandas as pd\n",
        "# ambiguity removal\n",
        "# Creating a Sample Dataset\n",
        "dat ='The bank can guarantee deposits will eventually cover future tuition costs because it invests in adjustable-rate mortgage securities.'\n",
        "print(dat)"
      ],
      "metadata": {
        "colab": {
          "base_uri": "https://localhost:8080/"
        },
        "id": "bo91MCbwVswq",
        "outputId": "ed003504-9d8f-4d60-b650-fd45431a8d48"
      },
      "execution_count": 8,
      "outputs": [
        {
          "output_type": "stream",
          "name": "stdout",
          "text": [
            "The bank can guarantee deposits will eventually cover future tuition costs because it invests in adjustable-rate mortgage securities.\n"
          ]
        }
      ]
    },
    {
      "cell_type": "markdown",
      "source": [
        "3.Take your own text or take text as “The bank can guarantee deposits will eventually cover future tuition costs because it invests in adjustable-rate mortgage securities.\" Implement Ambiguity Removal in the text.\n"
      ],
      "metadata": {
        "id": "-sWvbC3bV4Td"
      }
    },
    {
      "cell_type": "code",
      "source": [
        "def ambiguity_removal(text):\n",
        "  # Example: Replacing \"it\" with \"the bank\"\n",
        "  text = text.replace(\"it invests\", \"the bank invests\")\n",
        "  return text\n",
        "ambiguity_removal(dat)"
      ],
      "metadata": {
        "colab": {
          "base_uri": "https://localhost:8080/",
          "height": 53
        },
        "id": "eQU4geiAV6cK",
        "outputId": "d2a54b43-e829-4626-cca2-fec6a2486ed8"
      },
      "execution_count": 9,
      "outputs": [
        {
          "output_type": "execute_result",
          "data": {
            "text/plain": [
              "'The bank can guarantee deposits will eventually cover future tuition costs because the bank invests in adjustable-rate mortgage securities.'"
            ],
            "application/vnd.google.colaboratory.intrinsic+json": {
              "type": "string"
            }
          },
          "metadata": {},
          "execution_count": 9
        }
      ]
    },
    {
      "cell_type": "markdown",
      "source": [
        "4.Take your own text or take text as “Hello there! How are you doing today? NLP is fascinating.\" Implement Sentence Segmentation in the text."
      ],
      "metadata": {
        "id": "izmw8HymW8Bf"
      }
    },
    {
      "cell_type": "code",
      "source": [
        "# Segmentation\n",
        "import nltk\n",
        "from nltk.tokenize import word_tokenize, sent_tokenize\n",
        "# Download necessary NLTK data\n",
        "nltk.download('punkt')\n",
        "import pandas as pd"
      ],
      "metadata": {
        "colab": {
          "base_uri": "https://localhost:8080/"
        },
        "id": "jKYKydZmXOiT",
        "outputId": "e87d91f7-7584-4e49-e387-2a9f8a2ac8d1"
      },
      "execution_count": 10,
      "outputs": [
        {
          "output_type": "stream",
          "name": "stderr",
          "text": [
            "[nltk_data] Downloading package punkt to /root/nltk_data...\n",
            "[nltk_data]   Unzipping tokenizers/punkt.zip.\n"
          ]
        }
      ]
    },
    {
      "cell_type": "code",
      "source": [
        "text = \"Hello there! How are you doing today? NLP is fascinating.\"\n",
        "\n",
        "sentences = sent_tokenize(text)\n",
        "for sentence in sentences:\n",
        "  print(sentence)"
      ],
      "metadata": {
        "colab": {
          "base_uri": "https://localhost:8080/"
        },
        "id": "YzT1EwiLXWW9",
        "outputId": "17d19249-a837-4449-b4e6-2e0e48e9e80e"
      },
      "execution_count": 11,
      "outputs": [
        {
          "output_type": "stream",
          "name": "stdout",
          "text": [
            "Hello there!\n",
            "How are you doing today?\n",
            "NLP is fascinating.\n"
          ]
        }
      ]
    }
  ]
}